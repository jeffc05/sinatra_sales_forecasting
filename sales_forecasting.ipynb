{
 "cells": [
  {
   "cell_type": "code",
   "execution_count": 1,
   "metadata": {},
   "outputs": [],
   "source": [
    "import os\n",
    "import sys\n",
    "\n",
    "sys.stderr = open(os.devnull, \"w\")\n",
    "\n",
    "import numpy as np\n",
    "import pandas as pd\n",
    "import matplotlib.pyplot as plt\n",
    "import seaborn as sns\n",
    "import tensorflow as tf\n",
    "from tqdm import tqdm\n",
    "from datetime import timedelta\n",
    "from dateutil.relativedelta import relativedelta\n",
    "from statsmodels.tsa.seasonal import STL, MSTL\n",
    "from sktime.forecasting.tbats import TBATS\n",
    "from sklearn.metrics import mean_absolute_error, root_mean_squared_error\n",
    "from sklearn.model_selection import TimeSeriesSplit, cross_validate, GridSearchCV\n",
    "from sklearn.linear_model import LinearRegression\n",
    "from sklearn.ensemble import GradientBoostingRegressor\n",
    "from sklearn.preprocessing import StandardScaler\n",
    "from scipy.stats import median_abs_deviation\n",
    "from keras.callbacks import EarlyStopping\n",
    "from keras.models import Sequential\n",
    "from keras.layers import Input, Dense, LSTM, Dropout"
   ]
  },
  {
   "cell_type": "code",
   "execution_count": 2,
   "metadata": {},
   "outputs": [],
   "source": [
    "sales = pd.read_csv('pedidos.csv', sep=';')"
   ]
  },
  {
   "cell_type": "code",
   "execution_count": 3,
   "metadata": {},
   "outputs": [
    {
     "data": {
      "text/html": [
       "<div>\n",
       "<style scoped>\n",
       "    .dataframe tbody tr th:only-of-type {\n",
       "        vertical-align: middle;\n",
       "    }\n",
       "\n",
       "    .dataframe tbody tr th {\n",
       "        vertical-align: top;\n",
       "    }\n",
       "\n",
       "    .dataframe thead th {\n",
       "        text-align: right;\n",
       "    }\n",
       "</style>\n",
       "<table border=\"1\" class=\"dataframe\">\n",
       "  <thead>\n",
       "    <tr style=\"text-align: right;\">\n",
       "      <th></th>\n",
       "      <th>created_date</th>\n",
       "      <th>account_id</th>\n",
       "      <th>sales_channel_id</th>\n",
       "      <th>price_total</th>\n",
       "      <th>status</th>\n",
       "    </tr>\n",
       "  </thead>\n",
       "  <tbody>\n",
       "    <tr>\n",
       "      <th>0</th>\n",
       "      <td>2023-08-26 22:28:43.046 -0300</td>\n",
       "      <td>05d9cc3a-decc-4fa2-b4e8-b44eef40e3b6</td>\n",
       "      <td>6</td>\n",
       "      <td>30.28</td>\n",
       "      <td>canceled</td>\n",
       "    </tr>\n",
       "    <tr>\n",
       "      <th>1</th>\n",
       "      <td>2023-08-26 22:28:43.047 -0300</td>\n",
       "      <td>05d9cc3a-decc-4fa2-b4e8-b44eef40e3b6</td>\n",
       "      <td>6</td>\n",
       "      <td>73.38</td>\n",
       "      <td>canceled</td>\n",
       "    </tr>\n",
       "    <tr>\n",
       "      <th>2</th>\n",
       "      <td>2023-08-26 22:28:43.476 -0300</td>\n",
       "      <td>05d9cc3a-decc-4fa2-b4e8-b44eef40e3b6</td>\n",
       "      <td>6</td>\n",
       "      <td>212.11</td>\n",
       "      <td>canceled</td>\n",
       "    </tr>\n",
       "    <tr>\n",
       "      <th>3</th>\n",
       "      <td>2023-08-26 22:28:44.657 -0300</td>\n",
       "      <td>05d9cc3a-decc-4fa2-b4e8-b44eef40e3b6</td>\n",
       "      <td>6</td>\n",
       "      <td>24.72</td>\n",
       "      <td>canceled</td>\n",
       "    </tr>\n",
       "    <tr>\n",
       "      <th>4</th>\n",
       "      <td>2023-08-26 22:28:45.692 -0300</td>\n",
       "      <td>05d9cc3a-decc-4fa2-b4e8-b44eef40e3b6</td>\n",
       "      <td>6</td>\n",
       "      <td>149.50</td>\n",
       "      <td>canceled</td>\n",
       "    </tr>\n",
       "    <tr>\n",
       "      <th>...</th>\n",
       "      <td>...</td>\n",
       "      <td>...</td>\n",
       "      <td>...</td>\n",
       "      <td>...</td>\n",
       "      <td>...</td>\n",
       "    </tr>\n",
       "    <tr>\n",
       "      <th>18279636</th>\n",
       "      <td>2024-06-11 22:46:26.615 -0300</td>\n",
       "      <td>05d9cc3a-decc-4fa2-b4e8-b44eef40e3b6</td>\n",
       "      <td>3</td>\n",
       "      <td>39.99</td>\n",
       "      <td>NaN</td>\n",
       "    </tr>\n",
       "    <tr>\n",
       "      <th>18279637</th>\n",
       "      <td>2023-08-26 22:28:37.609 -0300</td>\n",
       "      <td>05d9cc3a-decc-4fa2-b4e8-b44eef40e3b6</td>\n",
       "      <td>6</td>\n",
       "      <td>32.39</td>\n",
       "      <td>canceled</td>\n",
       "    </tr>\n",
       "    <tr>\n",
       "      <th>18279638</th>\n",
       "      <td>2023-08-26 22:28:42.596 -0300</td>\n",
       "      <td>05d9cc3a-decc-4fa2-b4e8-b44eef40e3b6</td>\n",
       "      <td>3</td>\n",
       "      <td>49.50</td>\n",
       "      <td>canceled</td>\n",
       "    </tr>\n",
       "    <tr>\n",
       "      <th>18279639</th>\n",
       "      <td>2023-08-26 22:28:43.045 -0300</td>\n",
       "      <td>05d9cc3a-decc-4fa2-b4e8-b44eef40e3b6</td>\n",
       "      <td>6</td>\n",
       "      <td>28.34</td>\n",
       "      <td>canceled</td>\n",
       "    </tr>\n",
       "    <tr>\n",
       "      <th>18279640</th>\n",
       "      <td>2023-08-26 22:28:43.046 -0300</td>\n",
       "      <td>05d9cc3a-decc-4fa2-b4e8-b44eef40e3b6</td>\n",
       "      <td>6</td>\n",
       "      <td>34.91</td>\n",
       "      <td>canceled</td>\n",
       "    </tr>\n",
       "  </tbody>\n",
       "</table>\n",
       "<p>18279641 rows × 5 columns</p>\n",
       "</div>"
      ],
      "text/plain": [
       "                           created_date                            account_id  \\\n",
       "0         2023-08-26 22:28:43.046 -0300  05d9cc3a-decc-4fa2-b4e8-b44eef40e3b6   \n",
       "1         2023-08-26 22:28:43.047 -0300  05d9cc3a-decc-4fa2-b4e8-b44eef40e3b6   \n",
       "2         2023-08-26 22:28:43.476 -0300  05d9cc3a-decc-4fa2-b4e8-b44eef40e3b6   \n",
       "3         2023-08-26 22:28:44.657 -0300  05d9cc3a-decc-4fa2-b4e8-b44eef40e3b6   \n",
       "4         2023-08-26 22:28:45.692 -0300  05d9cc3a-decc-4fa2-b4e8-b44eef40e3b6   \n",
       "...                                 ...                                   ...   \n",
       "18279636  2024-06-11 22:46:26.615 -0300  05d9cc3a-decc-4fa2-b4e8-b44eef40e3b6   \n",
       "18279637  2023-08-26 22:28:37.609 -0300  05d9cc3a-decc-4fa2-b4e8-b44eef40e3b6   \n",
       "18279638  2023-08-26 22:28:42.596 -0300  05d9cc3a-decc-4fa2-b4e8-b44eef40e3b6   \n",
       "18279639  2023-08-26 22:28:43.045 -0300  05d9cc3a-decc-4fa2-b4e8-b44eef40e3b6   \n",
       "18279640  2023-08-26 22:28:43.046 -0300  05d9cc3a-decc-4fa2-b4e8-b44eef40e3b6   \n",
       "\n",
       "          sales_channel_id  price_total    status  \n",
       "0                        6        30.28  canceled  \n",
       "1                        6        73.38  canceled  \n",
       "2                        6       212.11  canceled  \n",
       "3                        6        24.72  canceled  \n",
       "4                        6       149.50  canceled  \n",
       "...                    ...          ...       ...  \n",
       "18279636                 3        39.99       NaN  \n",
       "18279637                 6        32.39  canceled  \n",
       "18279638                 3        49.50  canceled  \n",
       "18279639                 6        28.34  canceled  \n",
       "18279640                 6        34.91  canceled  \n",
       "\n",
       "[18279641 rows x 5 columns]"
      ]
     },
     "execution_count": 3,
     "metadata": {},
     "output_type": "execute_result"
    }
   ],
   "source": [
    "sales"
   ]
  },
  {
   "cell_type": "code",
   "execution_count": 4,
   "metadata": {},
   "outputs": [
    {
     "name": "stdout",
     "output_type": "stream",
     "text": [
      "<class 'pandas.core.frame.DataFrame'>\n",
      "RangeIndex: 18279641 entries, 0 to 18279640\n",
      "Data columns (total 5 columns):\n",
      " #   Column            Non-Null Count     Dtype  \n",
      "---  ------            --------------     -----  \n",
      " 0   created_date      18279641 non-null  object \n",
      " 1   account_id        18279641 non-null  object \n",
      " 2   sales_channel_id  18279641 non-null  int64  \n",
      " 3   price_total       18279641 non-null  float64\n",
      " 4   status            15035149 non-null  object \n",
      "dtypes: float64(1), int64(1), object(3)\n",
      "memory usage: 697.3+ MB\n"
     ]
    }
   ],
   "source": [
    "sales.info(show_counts=True)"
   ]
  },
  {
   "cell_type": "code",
   "execution_count": 5,
   "metadata": {},
   "outputs": [
    {
     "data": {
      "text/html": [
       "<div>\n",
       "<style scoped>\n",
       "    .dataframe tbody tr th:only-of-type {\n",
       "        vertical-align: middle;\n",
       "    }\n",
       "\n",
       "    .dataframe tbody tr th {\n",
       "        vertical-align: top;\n",
       "    }\n",
       "\n",
       "    .dataframe thead th {\n",
       "        text-align: right;\n",
       "    }\n",
       "</style>\n",
       "<table border=\"1\" class=\"dataframe\">\n",
       "  <thead>\n",
       "    <tr style=\"text-align: right;\">\n",
       "      <th></th>\n",
       "      <th>sales_channel_id</th>\n",
       "      <th>price_total</th>\n",
       "    </tr>\n",
       "  </thead>\n",
       "  <tbody>\n",
       "    <tr>\n",
       "      <th>count</th>\n",
       "      <td>1.827964e+07</td>\n",
       "      <td>1.827964e+07</td>\n",
       "    </tr>\n",
       "    <tr>\n",
       "      <th>mean</th>\n",
       "      <td>4.265544e+00</td>\n",
       "      <td>1.035530e+03</td>\n",
       "    </tr>\n",
       "    <tr>\n",
       "      <th>std</th>\n",
       "      <td>6.297053e+00</td>\n",
       "      <td>3.736278e+03</td>\n",
       "    </tr>\n",
       "    <tr>\n",
       "      <th>min</th>\n",
       "      <td>1.000000e+00</td>\n",
       "      <td>-4.216000e+01</td>\n",
       "    </tr>\n",
       "    <tr>\n",
       "      <th>25%</th>\n",
       "      <td>1.000000e+00</td>\n",
       "      <td>1.378100e+02</td>\n",
       "    </tr>\n",
       "    <tr>\n",
       "      <th>50%</th>\n",
       "      <td>1.000000e+00</td>\n",
       "      <td>3.601600e+02</td>\n",
       "    </tr>\n",
       "    <tr>\n",
       "      <th>75%</th>\n",
       "      <td>6.000000e+00</td>\n",
       "      <td>1.310950e+03</td>\n",
       "    </tr>\n",
       "    <tr>\n",
       "      <th>max</th>\n",
       "      <td>4.300000e+01</td>\n",
       "      <td>6.598500e+06</td>\n",
       "    </tr>\n",
       "  </tbody>\n",
       "</table>\n",
       "</div>"
      ],
      "text/plain": [
       "       sales_channel_id   price_total\n",
       "count      1.827964e+07  1.827964e+07\n",
       "mean       4.265544e+00  1.035530e+03\n",
       "std        6.297053e+00  3.736278e+03\n",
       "min        1.000000e+00 -4.216000e+01\n",
       "25%        1.000000e+00  1.378100e+02\n",
       "50%        1.000000e+00  3.601600e+02\n",
       "75%        6.000000e+00  1.310950e+03\n",
       "max        4.300000e+01  6.598500e+06"
      ]
     },
     "execution_count": 5,
     "metadata": {},
     "output_type": "execute_result"
    }
   ],
   "source": [
    "sales.describe()"
   ]
  },
  {
   "cell_type": "code",
   "execution_count": 6,
   "metadata": {},
   "outputs": [
    {
     "data": {
      "text/html": [
       "<div>\n",
       "<style scoped>\n",
       "    .dataframe tbody tr th:only-of-type {\n",
       "        vertical-align: middle;\n",
       "    }\n",
       "\n",
       "    .dataframe tbody tr th {\n",
       "        vertical-align: top;\n",
       "    }\n",
       "\n",
       "    .dataframe thead th {\n",
       "        text-align: right;\n",
       "    }\n",
       "</style>\n",
       "<table border=\"1\" class=\"dataframe\">\n",
       "  <thead>\n",
       "    <tr style=\"text-align: right;\">\n",
       "      <th></th>\n",
       "      <th>account_id</th>\n",
       "      <th>sales_channel_id</th>\n",
       "      <th>count</th>\n",
       "    </tr>\n",
       "  </thead>\n",
       "  <tbody>\n",
       "    <tr>\n",
       "      <th>0</th>\n",
       "      <td>5f5ed10c-7792-4080-970c-b11398e3f58f</td>\n",
       "      <td>1</td>\n",
       "      <td>3004186</td>\n",
       "    </tr>\n",
       "    <tr>\n",
       "      <th>1</th>\n",
       "      <td>9d39683a-47b3-4a18-942d-f1d741a47e8c</td>\n",
       "      <td>1</td>\n",
       "      <td>2521471</td>\n",
       "    </tr>\n",
       "    <tr>\n",
       "      <th>2</th>\n",
       "      <td>05d9cc3a-decc-4fa2-b4e8-b44eef40e3b6</td>\n",
       "      <td>3</td>\n",
       "      <td>1895786</td>\n",
       "    </tr>\n",
       "    <tr>\n",
       "      <th>3</th>\n",
       "      <td>5f5ed10c-7792-4080-970c-b11398e3f58f</td>\n",
       "      <td>9</td>\n",
       "      <td>1057418</td>\n",
       "    </tr>\n",
       "    <tr>\n",
       "      <th>4</th>\n",
       "      <td>74abffac-6542-4eff-8eae-cc85463a5d02</td>\n",
       "      <td>1</td>\n",
       "      <td>981137</td>\n",
       "    </tr>\n",
       "    <tr>\n",
       "      <th>...</th>\n",
       "      <td>...</td>\n",
       "      <td>...</td>\n",
       "      <td>...</td>\n",
       "    </tr>\n",
       "    <tr>\n",
       "      <th>248</th>\n",
       "      <td>5f5ed10c-7792-4080-970c-b11398e3f58f</td>\n",
       "      <td>38</td>\n",
       "      <td>3</td>\n",
       "    </tr>\n",
       "    <tr>\n",
       "      <th>249</th>\n",
       "      <td>60ca8452-5b14-481f-a637-8756f527aee8</td>\n",
       "      <td>4</td>\n",
       "      <td>2</td>\n",
       "    </tr>\n",
       "    <tr>\n",
       "      <th>250</th>\n",
       "      <td>f9129295-bb08-4330-b60c-9f0beadda521</td>\n",
       "      <td>36</td>\n",
       "      <td>1</td>\n",
       "    </tr>\n",
       "    <tr>\n",
       "      <th>251</th>\n",
       "      <td>457bce7b-9300-4c10-9a97-070b3c0d081d</td>\n",
       "      <td>5</td>\n",
       "      <td>1</td>\n",
       "    </tr>\n",
       "    <tr>\n",
       "      <th>252</th>\n",
       "      <td>789ff5c4-21d8-4ed3-ab64-8b46cf2eba9b</td>\n",
       "      <td>2</td>\n",
       "      <td>1</td>\n",
       "    </tr>\n",
       "  </tbody>\n",
       "</table>\n",
       "<p>253 rows × 3 columns</p>\n",
       "</div>"
      ],
      "text/plain": [
       "                               account_id  sales_channel_id    count\n",
       "0    5f5ed10c-7792-4080-970c-b11398e3f58f                 1  3004186\n",
       "1    9d39683a-47b3-4a18-942d-f1d741a47e8c                 1  2521471\n",
       "2    05d9cc3a-decc-4fa2-b4e8-b44eef40e3b6                 3  1895786\n",
       "3    5f5ed10c-7792-4080-970c-b11398e3f58f                 9  1057418\n",
       "4    74abffac-6542-4eff-8eae-cc85463a5d02                 1   981137\n",
       "..                                    ...               ...      ...\n",
       "248  5f5ed10c-7792-4080-970c-b11398e3f58f                38        3\n",
       "249  60ca8452-5b14-481f-a637-8756f527aee8                 4        2\n",
       "250  f9129295-bb08-4330-b60c-9f0beadda521                36        1\n",
       "251  457bce7b-9300-4c10-9a97-070b3c0d081d                 5        1\n",
       "252  789ff5c4-21d8-4ed3-ab64-8b46cf2eba9b                 2        1\n",
       "\n",
       "[253 rows x 3 columns]"
      ]
     },
     "execution_count": 6,
     "metadata": {},
     "output_type": "execute_result"
    }
   ],
   "source": [
    "df = sales[['account_id', 'sales_channel_id']].value_counts()\n",
    "\n",
    "pd.DataFrame(df).reset_index()"
   ]
  },
  {
   "cell_type": "code",
   "execution_count": 7,
   "metadata": {},
   "outputs": [
    {
     "data": {
      "text/plain": [
       "np.int64(364414)"
      ]
     },
     "execution_count": 7,
     "metadata": {},
     "output_type": "execute_result"
    }
   ],
   "source": [
    "sales['created_date'].duplicated().sum()"
   ]
  },
  {
   "cell_type": "code",
   "execution_count": null,
   "metadata": {},
   "outputs": [],
   "source": [
    "# TEST_SIZE = 24\n",
    "LOOKBACK = 3\n",
    "SEASONAL_PERIODS = (24, 24*7)\n",
    "END_DATE = pd.to_datetime(pd.to_datetime(sales['created_date'].max()).strftime(\"%Y-%m-%d %H:00:00\"))\n",
    "START_DATE = END_DATE - timedelta(hours=END_DATE.hour)\n",
    "TEST_SIZE = int((END_DATE - START_DATE).seconds / 60**2 + 1)"
   ]
  },
  {
   "cell_type": "code",
   "execution_count": null,
   "metadata": {},
   "outputs": [],
   "source": [
    "OOT_DATE = START_DATE + timedelta(hours=23)"
   ]
  },
  {
   "cell_type": "code",
   "execution_count": null,
   "metadata": {},
   "outputs": [],
   "source": [
    "OOT_PERIODS = int((OOT_DATE - END_DATE).seconds / 60**2 + 1)"
   ]
  },
  {
   "cell_type": "code",
   "execution_count": null,
   "metadata": {},
   "outputs": [],
   "source": [
    "oot_dates = pd.DatetimeIndex([END_DATE+timedelta(hours=h) for h in range(1, OOT_PERIODS)], freq='h')\n",
    "df_oot = pd.DataFrame(index=oot_dates)"
   ]
  },
  {
   "cell_type": "code",
   "execution_count": null,
   "metadata": {},
   "outputs": [],
   "source": [
    "account_id = 'f9129295-bb08-4330-b60c-9f0beadda521'\n",
    "sales_channel_id = 1\n",
    "\n",
    "# cond = (sales['account_id'] == account_id) & (sales['sales_channel_id'] == sales_channel_id)\n",
    "# df_client = sales[cond].drop(['account_id', 'sales_channel_id'], axis=1)\n",
    "# df_client['created_date'] = pd.to_datetime(df_client['created_date'], format='%Y-%m-%d %H:%M:%S.%f %z')\n",
    "# df_client = df_client.sort_values('created_date').reset_index(drop=True)\n",
    "\n",
    "cond = (sales['account_id'] == account_id) & (sales['sales_channel_id'] == sales_channel_id)\n",
    "df_client = sales[cond].drop(['account_id', 'sales_channel_id'], axis=1)\n",
    "df_client['created_date'] = pd.to_datetime(df_client['created_date'], format='%Y-%m-%d %H:%M:%S.%f %z')\n",
    "df_client = df_client.sort_values('created_date').reset_index(drop=True)\n",
    "df_client['created_date'] = df_client['created_date'].dt.strftime(\"%Y-%m-%d %H:00:00\").reset_index(drop=True)\n",
    "\n",
    "df_client_mod = df_client.groupby('created_date').agg(price_total_agg=('price_total', 'sum'), n_orders=('created_date', 'count'))\n",
    "df_client_mod.index = pd.to_datetime(df_client_mod.index, format='%Y-%m-%d %H:00:00')\n",
    "\n",
    "end_date = pd.to_datetime(END_DATE, format='%Y-%m-%d %H:%M:%S')\n",
    "start_date = end_date - relativedelta(months=LOOKBACK)\n",
    "date_index = pd.Series(pd.date_range(start=start_date, end=end_date, freq='h', name='created_date'))\n",
    "df_client_mod = pd.merge(date_index, df_client_mod, how='left', on='created_date').set_index('created_date')"
   ]
  },
  {
   "cell_type": "code",
   "execution_count": null,
   "metadata": {},
   "outputs": [],
   "source": [
    "# df_client"
   ]
  },
  {
   "cell_type": "code",
   "execution_count": null,
   "metadata": {},
   "outputs": [],
   "source": [
    "# df_client.info(show_counts=True)"
   ]
  },
  {
   "cell_type": "code",
   "execution_count": null,
   "metadata": {},
   "outputs": [],
   "source": [
    "# df_client.describe()"
   ]
  },
  {
   "cell_type": "code",
   "execution_count": null,
   "metadata": {},
   "outputs": [],
   "source": [
    "# df_client['created_date'] = df_client['created_date'].dt.strftime(\"%Y-%m-%d %H\").reset_index(drop=True)"
   ]
  },
  {
   "cell_type": "code",
   "execution_count": null,
   "metadata": {},
   "outputs": [],
   "source": [
    "# df_client"
   ]
  },
  {
   "cell_type": "code",
   "execution_count": null,
   "metadata": {},
   "outputs": [],
   "source": [
    "# df_client_mod = df_client.groupby('created_date').agg(price_total_agg=('price_total', 'sum'), n_orders=('created_date', 'count'))\n",
    "# df_client_mod.index = pd.to_datetime(df_client_mod.index, format='%Y-%m-%d %H')\n",
    "\n",
    "# df_client_mod"
   ]
  },
  {
   "cell_type": "code",
   "execution_count": null,
   "metadata": {},
   "outputs": [],
   "source": [
    "# end_date = pd.to_datetime('2025-03-17 10')\n",
    "# date_index = pd.Series(pd.date_range(start=end_date - relativedelta(months=3),\n",
    "#                                      end=end_date,\n",
    "#                                      freq='h',\n",
    "#                                      name='created_date'))\n",
    "# df_client_mod = pd.merge(date_index, df_client_mod, how='left', on='created_date').set_index('created_date')"
   ]
  },
  {
   "cell_type": "code",
   "execution_count": null,
   "metadata": {},
   "outputs": [],
   "source": [
    "df_client_mod"
   ]
  },
  {
   "cell_type": "markdown",
   "metadata": {},
   "source": [
    "# Price Total"
   ]
  },
  {
   "cell_type": "markdown",
   "metadata": {},
   "source": [
    "## Time Series"
   ]
  },
  {
   "cell_type": "code",
   "execution_count": null,
   "metadata": {},
   "outputs": [],
   "source": [
    "price_total = df_client_mod['price_total_agg']"
   ]
  },
  {
   "cell_type": "code",
   "execution_count": null,
   "metadata": {},
   "outputs": [],
   "source": [
    "price_total"
   ]
  },
  {
   "cell_type": "code",
   "execution_count": null,
   "metadata": {},
   "outputs": [],
   "source": [
    "price_total.isna().sum()"
   ]
  },
  {
   "cell_type": "code",
   "execution_count": null,
   "metadata": {},
   "outputs": [],
   "source": [
    "price_total = price_total.fillna(0)"
   ]
  },
  {
   "cell_type": "code",
   "execution_count": null,
   "metadata": {},
   "outputs": [],
   "source": [
    "price_total.isna().sum()"
   ]
  },
  {
   "cell_type": "code",
   "execution_count": null,
   "metadata": {},
   "outputs": [],
   "source": [
    "lags = [price_total.shift(l).rename(f'lag_{l}') for l in range(1, 25)]\n",
    "price_total_lag = pd.concat([price_total, pd.concat(lags, axis=1)], axis=1).dropna()"
   ]
  },
  {
   "cell_type": "code",
   "execution_count": null,
   "metadata": {},
   "outputs": [],
   "source": [
    "# price_total.corr()['price_total_agg']"
   ]
  },
  {
   "cell_type": "code",
   "execution_count": null,
   "metadata": {},
   "outputs": [],
   "source": [
    "# df = price_total[['price_total_agg', 'lag_1']]\n",
    "df = price_total"
   ]
  },
  {
   "cell_type": "code",
   "execution_count": null,
   "metadata": {},
   "outputs": [],
   "source": [
    "df_train = df[:-TEST_SIZE]\n",
    "df_test = df[-TEST_SIZE:]"
   ]
  },
  {
   "cell_type": "code",
   "execution_count": null,
   "metadata": {},
   "outputs": [],
   "source": [
    "plt.figure(figsize=(12, 3))\n",
    "sns.lineplot(df_train, lw=0.8);"
   ]
  },
  {
   "cell_type": "code",
   "execution_count": null,
   "metadata": {},
   "outputs": [],
   "source": [
    "plt.figure(figsize=(12, 3))\n",
    "sns.lineplot(price_total.loc[end_date-timedelta(days=2):end_date], lw=0.8)\n",
    "plt.xticks(rotation=90);"
   ]
  },
  {
   "cell_type": "code",
   "execution_count": null,
   "metadata": {},
   "outputs": [],
   "source": [
    "res_stl = STL(df_train, period=24).fit()"
   ]
  },
  {
   "cell_type": "code",
   "execution_count": null,
   "metadata": {},
   "outputs": [],
   "source": [
    "fig, ax = plt.subplots(4, 1, sharex=True, figsize=(12, 12))\n",
    "fig.tight_layout()\n",
    "\n",
    "res_stl.observed.plot(lw=0.8, ax=ax[0])\n",
    "ax[0].set_ylabel(\"Observed\")\n",
    "\n",
    "res_stl.trend.plot(lw=0.8, ax=ax[1])\n",
    "ax[1].set_ylabel(\"Trend\")\n",
    "\n",
    "res_stl.seasonal.plot(lw=0.8, ax=ax[2])\n",
    "ax[2].set_ylabel(\"Seasonal\")\n",
    "\n",
    "res_stl.resid.plot(style=\".\", markersize=1, ax=ax[3])\n",
    "ax[3].set_ylabel(\"Residual\");"
   ]
  },
  {
   "cell_type": "code",
   "execution_count": null,
   "metadata": {},
   "outputs": [],
   "source": [
    "trend = res_stl.trend\n",
    "\n",
    "plt.figure(figsize=(12, 3))\n",
    "sns.lineplot(trend.loc[end_date-timedelta(days=35):end_date], lw=0.8)\n",
    "plt.xticks(rotation=90);"
   ]
  },
  {
   "cell_type": "code",
   "execution_count": null,
   "metadata": {},
   "outputs": [],
   "source": [
    "res_mstl = MSTL(df_train, periods=(24, 24*7)).fit()"
   ]
  },
  {
   "cell_type": "code",
   "execution_count": null,
   "metadata": {},
   "outputs": [],
   "source": [
    "fig, ax = plt.subplots(5, 1, sharex=True, figsize=(12, 12))\n",
    "fig.tight_layout()\n",
    "\n",
    "res_mstl.observed.plot(lw=0.8, ax=ax[0])\n",
    "ax[0].set_ylabel(\"Observed\")\n",
    "\n",
    "res_mstl.trend.plot(lw=0.8, ax=ax[1])\n",
    "ax[1].set_ylabel(\"Trend\")\n",
    "\n",
    "res_mstl.seasonal['seasonal_24'].plot(lw=0.8, ax=ax[2])\n",
    "ax[2].set_ylabel(\"Seasonal 24h\")\n",
    "\n",
    "res_mstl.seasonal['seasonal_168'].plot(lw=0.8, ax=ax[3])\n",
    "ax[3].set_ylabel(\"Seasonal 7d\")\n",
    "\n",
    "res_mstl.resid.plot(style=\".\", markersize=1, ax=ax[4])\n",
    "ax[4].set_ylabel(\"Residual\");"
   ]
  },
  {
   "cell_type": "code",
   "execution_count": null,
   "metadata": {},
   "outputs": [],
   "source": [
    "model = TBATS(sp=[24, 168], show_warnings=False, n_jobs=-1)\n",
    "model.fit(df_train)"
   ]
  },
  {
   "cell_type": "code",
   "execution_count": null,
   "metadata": {},
   "outputs": [],
   "source": [
    "forecast = model.predict(fh=df.index)\n",
    "forecast_int = model.predict_interval(fh=df.index, coverage=0.95)"
   ]
  },
  {
   "cell_type": "code",
   "execution_count": null,
   "metadata": {},
   "outputs": [],
   "source": [
    "plt.figure(figsize=(12, 3))\n",
    "sns.lineplot(df_train, lw=0.8, label='Train')\n",
    "sns.lineplot(forecast[:-TEST_SIZE], lw=0.8, label='Estimation');"
   ]
  },
  {
   "cell_type": "code",
   "execution_count": null,
   "metadata": {},
   "outputs": [],
   "source": [
    "plt.figure(figsize=(12, 3))\n",
    "sns.lineplot(df_train.iloc[-6*TEST_SIZE:], lw=0.8, label='Train')\n",
    "sns.lineplot(forecast[-5*TEST_SIZE:-TEST_SIZE], lw=0.8, label='Estimation')\n",
    "sns.lineplot(df_test, lw=0.8, label='Test')\n",
    "sns.lineplot(forecast[-TEST_SIZE:], lw=0.8, label='Forecast')\n",
    "sns.lineplot(forecast_int.iloc[-TEST_SIZE:, 0], c='darkviolet', linestyle='--', lw=0.8)\n",
    "sns.lineplot(forecast_int.iloc[-TEST_SIZE:, 1], c='darkviolet', linestyle='--', lw=0.8)\n",
    "sns.lineplot(2*forecast_int.iloc[-TEST_SIZE:, 0]-forecast[-TEST_SIZE:], c='darkviolet', alpha=0.3, linestyle='--', lw=0.8)\n",
    "sns.lineplot(2*forecast_int.iloc[-TEST_SIZE:, 1]-forecast[-TEST_SIZE:], c='darkviolet', alpha=0.3, linestyle='--', lw=0.8)\n",
    "plt.fill_between(x=forecast_int.index[-TEST_SIZE:],\n",
    "                 y1=forecast_int.iloc[-TEST_SIZE:, 0],\n",
    "                 y2=forecast_int.iloc[-TEST_SIZE:, 1],\n",
    "                 color='violet',\n",
    "                 alpha=0.5)\n",
    "plt.fill_between(x=forecast_int.index[-TEST_SIZE:],\n",
    "                 y1=2*forecast_int.iloc[-TEST_SIZE:, 0]-forecast[-TEST_SIZE:],\n",
    "                 y2=2*forecast_int.iloc[-TEST_SIZE:, 1]-forecast[-TEST_SIZE:],\n",
    "                 color='violet',\n",
    "                 alpha=0.3)\n",
    "plt.legend();"
   ]
  },
  {
   "cell_type": "code",
   "execution_count": null,
   "metadata": {},
   "outputs": [],
   "source": [
    "train_pred = forecast[:-TEST_SIZE]\n",
    "\n",
    "train_mae = mean_absolute_error(df_train, train_pred)\n",
    "train_rmse = root_mean_squared_error(df_train, train_pred)\n",
    "\n",
    "print(f\"RMSE: {train_rmse:.3f}\")\n",
    "print(f\"MAE:  {train_mae:.3f}\")"
   ]
  },
  {
   "cell_type": "code",
   "execution_count": null,
   "metadata": {},
   "outputs": [],
   "source": [
    "test_pred = forecast[-TEST_SIZE:] \n",
    "\n",
    "mae = mean_absolute_error(df_test, test_pred)\n",
    "rmse = root_mean_squared_error(df_test, test_pred)\n",
    "\n",
    "print(f\"RMSE: {rmse:.3f}\")\n",
    "print(f\"MAE:  {mae:.3f}\")"
   ]
  },
  {
   "cell_type": "markdown",
   "metadata": {},
   "source": [
    "## Machine Learning"
   ]
  },
  {
   "cell_type": "code",
   "execution_count": null,
   "metadata": {},
   "outputs": [],
   "source": [
    "test_split_date = end_date - timedelta(days=1)\n",
    "df_train = price_total.loc[price_total.index <= test_split_date].copy()\n",
    "df_test = price_total.loc[price_total.index > test_split_date].copy()\n",
    "\n",
    "X_train, y_train = df_train.drop('price_total_agg', axis=1), df_train['price_total_agg']\n",
    "X_test, y_test = df_test.drop('price_total_agg', axis=1), df_test['price_total_agg']"
   ]
  },
  {
   "cell_type": "code",
   "execution_count": null,
   "metadata": {},
   "outputs": [],
   "source": [
    "tscv = TimeSeriesSplit()"
   ]
  },
  {
   "cell_type": "code",
   "execution_count": null,
   "metadata": {},
   "outputs": [],
   "source": [
    "lr = LinearRegression()\n",
    "cv_results = cross_validate(lr,\n",
    "                            X=X_train,\n",
    "                            y=y_train,\n",
    "                            scoring=['neg_root_mean_squared_error', 'neg_mean_absolute_error'],\n",
    "                            cv=tscv,\n",
    "                            n_jobs=-1,\n",
    "                            return_train_score=True)\n",
    "cv_results = pd.DataFrame(cv_results)\n",
    "print('train RMSE:', -cv_results['train_neg_root_mean_squared_error'].mean())\n",
    "print('valid RMSE:', -cv_results['test_neg_root_mean_squared_error'].mean())\n",
    "print('train MAE:', -cv_results['train_neg_mean_absolute_error'].mean())\n",
    "print('valid MAE:', -cv_results['test_neg_mean_absolute_error'].mean())"
   ]
  },
  {
   "cell_type": "code",
   "execution_count": null,
   "metadata": {},
   "outputs": [],
   "source": [
    "gb = GradientBoostingRegressor(max_depth=10, random_state=42, n_iter_no_change=3)"
   ]
  },
  {
   "cell_type": "code",
   "execution_count": null,
   "metadata": {},
   "outputs": [],
   "source": [
    "valid_split_date = end_date - timedelta(days=2)\n",
    "\n",
    "df_valid = df_train.loc[(df_train.index > valid_split_date) & (df_train.index <= test_split_date)].copy()\n",
    "X_valid, y_valid = df_valid.drop('price_total_agg', axis=1), df_valid['price_total_agg']\n",
    "\n",
    "df_train_mod = df_train.loc[df_train.index <= valid_split_date].copy()\n",
    "X_train_mod, y_train_mod = df_train_mod.drop('price_total_agg', axis=1), df_train_mod['price_total_agg']"
   ]
  },
  {
   "cell_type": "code",
   "execution_count": null,
   "metadata": {},
   "outputs": [],
   "source": [
    "# gb.fit(X_train_mod, y_train_mod)\n",
    "# estimation = pd.Series(gb.predict(X_train_mod), index=X_train_mod.index)\n",
    "# forecast = pd.Series(gb.predict(X_valid), index=X_valid.index)\n",
    "\n",
    "# print('train RMSE:', root_mean_squared_error(y_train_mod, estimation))\n",
    "# print('valid RMSE:', root_mean_squared_error(y_valid, forecast))\n",
    "# print('train MAE:', mean_absolute_error(y_train_mod, estimation))\n",
    "# print('valid MAE:', mean_absolute_error(y_valid, forecast))"
   ]
  },
  {
   "cell_type": "code",
   "execution_count": null,
   "metadata": {},
   "outputs": [],
   "source": [
    "# model = gb"
   ]
  },
  {
   "cell_type": "code",
   "execution_count": null,
   "metadata": {},
   "outputs": [],
   "source": [
    "LOWER_ALPHA = 0.025\n",
    "MED_ALPHA = 0.5\n",
    "UPPER_ALPHA = 0.975\n",
    "\n",
    "lower_gb = GradientBoostingRegressor(loss=\"quantile\", max_depth=10, random_state=42, n_iter_no_change=3, alpha=LOWER_ALPHA)\n",
    "lower_gb.fit(X_train, y_train)\n",
    "\n",
    "gb = GradientBoostingRegressor(loss=\"quantile\", max_depth=10, random_state=42, n_iter_no_change=3, alpha=0.5)\n",
    "gb.fit(X_train, y_train)\n",
    "\n",
    "upper_gb = GradientBoostingRegressor(loss=\"quantile\", max_depth=10, random_state=42, n_iter_no_change=3, alpha=UPPER_ALPHA)\n",
    "upper_gb.fit(X_train, y_train);\n",
    "\n",
    "# model.fit(X_train, y_train);"
   ]
  },
  {
   "cell_type": "code",
   "execution_count": null,
   "metadata": {},
   "outputs": [],
   "source": [
    "estimation = pd.Series(model.predict(X_train), index=X_train.index)\n",
    "\n",
    "lower = pd.Series(lower_gb.predict(X_test), index=X_test.index)\n",
    "upper = pd.Series(upper_gb.predict(X_test), index=X_test.index)\n",
    "\n",
    "y_pred_test = gb.predict(X_test)\n",
    "forecast = pd.Series(y_pred_test, index=X_test.index)"
   ]
  },
  {
   "cell_type": "code",
   "execution_count": null,
   "metadata": {},
   "outputs": [],
   "source": [
    "plt.figure(figsize=(12, 3))\n",
    "sns.lineplot(y_train, lw=0.8, label='Train')\n",
    "sns.lineplot(estimation, lw=0.8, label='Estimation');"
   ]
  },
  {
   "cell_type": "code",
   "execution_count": null,
   "metadata": {},
   "outputs": [],
   "source": [
    "np.random.seed(42)"
   ]
  },
  {
   "cell_type": "code",
   "execution_count": null,
   "metadata": {},
   "outputs": [],
   "source": [
    "# def bootstrap_models(X, y, n_bootstraps=100):\n",
    "#     models = []\n",
    "#     for k in range(n_bootstraps):\n",
    "#         idx = np.random.choice(len(X), size=len(X), replace=True)\n",
    "#         X_boot, y_boot = X.iloc[idx], y.iloc[idx]\n",
    "#         model = GradientBoostingRegressor(max_depth=10, random_state=42, n_iter_no_change=3)\n",
    "#         model.fit(X_boot, y_boot)\n",
    "#         models.append(model)\n",
    "#     return models"
   ]
  },
  {
   "cell_type": "code",
   "execution_count": null,
   "metadata": {},
   "outputs": [],
   "source": [
    "# ensemble = bootstrap_models(X_train, y_train)"
   ]
  },
  {
   "cell_type": "code",
   "execution_count": null,
   "metadata": {},
   "outputs": [],
   "source": [
    "# predictions = np.column_stack([model.predict(X_test) for model in ensemble])\n",
    "\n",
    "# lower = pd.Series(np.percentile(predictions, 2.5, axis=1), index=X_test.index)\n",
    "# upper = pd.Series(np.percentile(predictions, 97.5, axis=1), index=X_test.index)\n",
    "\n",
    "# forecast = pd.Series(np.percentile(predictions, 50, axis=1), index=X_test.index)"
   ]
  },
  {
   "cell_type": "code",
   "execution_count": null,
   "metadata": {},
   "outputs": [],
   "source": [
    "print('test RMSE:', root_mean_squared_error(y_test, forecast))\n",
    "print('test MAE:', mean_absolute_error(y_test, forecast))"
   ]
  },
  {
   "cell_type": "code",
   "execution_count": null,
   "metadata": {},
   "outputs": [],
   "source": [
    "plt.figure(figsize=(12, 3))\n",
    "sns.lineplot(y_train[-3*TEST_SIZE:], lw=0.8, label='Train')\n",
    "sns.lineplot(estimation[-3*TEST_SIZE:], lw=0.8, label='Estimation')\n",
    "sns.lineplot(y_test, lw=0.8, label='Test')\n",
    "sns.lineplot(forecast, lw=0.8, label='Forecast')\n",
    "sns.lineplot(lower, c='darkviolet', linestyle='--', lw=0.8)\n",
    "sns.lineplot(upper, c='darkviolet', linestyle='--', lw=0.8)\n",
    "sns.lineplot(2*lower-forecast, c='darkviolet', alpha=0.3, linestyle='--', lw=0.8)\n",
    "sns.lineplot(2*upper-forecast, c='darkviolet', alpha=0.3, linestyle='--', lw=0.8)\n",
    "plt.fill_between(x=forecast.index, y1=lower, y2=upper, color='violet', alpha=0.5)\n",
    "plt.fill_between(x=forecast.index, y1=2*lower-forecast, y2=2*upper-forecast, color='violet', alpha=0.3)\n",
    "plt.legend();"
   ]
  },
  {
   "cell_type": "markdown",
   "metadata": {},
   "source": [
    "## Deep Learning"
   ]
  },
  {
   "cell_type": "code",
   "execution_count": null,
   "metadata": {},
   "outputs": [],
   "source": [
    "test_split_date = end_date - timedelta(days=1)\n",
    "df_train = price_total_lag.loc[price_total_lag.index <= test_split_date].copy()\n",
    "df_test = price_total_lag.loc[price_total_lag.index > test_split_date].copy()\n",
    "\n",
    "X_train, y_train = df_train.drop('price_total_agg', axis=1), df_train['price_total_agg']\n",
    "X_test, y_test = df_test.drop('price_total_agg', axis=1), df_test['price_total_agg']"
   ]
  },
  {
   "cell_type": "code",
   "execution_count": null,
   "metadata": {},
   "outputs": [],
   "source": [
    "tf.random.set_seed(42)"
   ]
  },
  {
   "cell_type": "code",
   "execution_count": null,
   "metadata": {},
   "outputs": [],
   "source": [
    "scaler = StandardScaler()\n",
    "X_train_scaled = scaler.fit_transform(X_train)\n",
    "X_test_scaled = scaler.transform(X_test)"
   ]
  },
  {
   "cell_type": "code",
   "execution_count": null,
   "metadata": {},
   "outputs": [],
   "source": [
    "X_train_scaled = np.reshape(X_train_scaled, (X_train.shape[0], 1, X_train.shape[1]))\n",
    "X_test_scaled = np.reshape(X_test_scaled, (X_test.shape[0], 1, X_test.shape[1]))"
   ]
  },
  {
   "cell_type": "code",
   "execution_count": null,
   "metadata": {},
   "outputs": [],
   "source": [
    "def bootstrap_models(X, y, n_bootstraps=10):\n",
    "    models = []\n",
    "    i = 1\n",
    "    for _ in range(n_bootstraps):\n",
    "        print('#bootstrap:', i)\n",
    "        idx = np.random.choice(len(X), size=len(X), replace=True)\n",
    "        X_boot, y_boot = X.iloc[idx], y.iloc[idx]\n",
    "        scaler = StandardScaler()\n",
    "        X_boot_scaled = scaler.fit_transform(X_boot)\n",
    "        X_boot_scaled = np.reshape(X_boot_scaled, (X_boot.shape[0], 1, X_boot.shape[1]))\n",
    "        early_stopping = EarlyStopping(patience=3)\n",
    "        model = Sequential()\n",
    "        model.add(Input(shape=(1, 24)))\n",
    "        model.add(LSTM(128, activation='relu', return_sequences=True))\n",
    "        model.add(Dropout(0.5))\n",
    "        model.add(Dense(1))\n",
    "        model.compile(loss='mean_absolute_error', optimizer='adam')\n",
    "        model.fit(X_boot_scaled, y_boot, epochs=500, batch_size=32, validation_split=0.1, shuffle=False, callbacks=early_stopping, verbose=2)\n",
    "        models.append(model)\n",
    "        i += 1\n",
    "    return models"
   ]
  },
  {
   "cell_type": "code",
   "execution_count": null,
   "metadata": {},
   "outputs": [],
   "source": [
    "ensemble = bootstrap_models(X_train, y_train)\n",
    "predictions = np.column_stack([model.predict(X_test_scaled) for model in ensemble])"
   ]
  },
  {
   "cell_type": "code",
   "execution_count": null,
   "metadata": {},
   "outputs": [],
   "source": [
    "lower = pd.Series(np.percentile(predictions.squeeze(), 15, axis=1), index=X_test.index)\n",
    "forecast = pd.Series(np.percentile(predictions.squeeze(), 50, axis=1), index=X_test.index)\n",
    "upper = pd.Series(np.percentile(predictions.squeeze(), 85, axis=1), index=X_test.index)"
   ]
  },
  {
   "cell_type": "code",
   "execution_count": null,
   "metadata": {},
   "outputs": [],
   "source": [
    "# model = Sequential()\n",
    "# model.add(Input(shape=(1, 24)))\n",
    "# model.add(LSTM(128, activation='relu', return_sequences=True))\n",
    "# model.add(Dropout(0.5))\n",
    "# model.add(Dense(1))\n",
    "# model.compile(loss='mean_absolute_error', optimizer='adam')\n",
    "# model.fit(X_train_scaled, y_train, epochs=100, batch_size=1, verbose=2)"
   ]
  },
  {
   "cell_type": "code",
   "execution_count": null,
   "metadata": {},
   "outputs": [],
   "source": [
    "# estimation = pd.Series(model.predict(X_train_scaled).squeeze(), index=X_train.index)\n",
    "# forecast = pd.Series(model.predict(X_test_scaled).squeeze(), index=X_test.index)\n",
    "\n",
    "predictions = np.column_stack([model.predict(X_train_scaled) for model in ensemble])\n",
    "estimation = pd.Series(np.percentile(predictions.squeeze(), 50, axis=1), index=X_train.index)"
   ]
  },
  {
   "cell_type": "code",
   "execution_count": null,
   "metadata": {},
   "outputs": [],
   "source": [
    "print('train RMSE:', root_mean_squared_error(y_train, estimation))\n",
    "print('test RMSE:', root_mean_squared_error(y_test, forecast))\n",
    "print('train MAE:', mean_absolute_error(y_train, estimation))\n",
    "print('test MAE:', mean_absolute_error(y_test, forecast))"
   ]
  },
  {
   "cell_type": "code",
   "execution_count": null,
   "metadata": {},
   "outputs": [],
   "source": [
    "plt.figure(figsize=(12, 3))\n",
    "sns.lineplot(y_train, lw=0.8, label='Train')\n",
    "sns.lineplot(estimation, lw=0.8, label='Estimation');"
   ]
  },
  {
   "cell_type": "code",
   "execution_count": null,
   "metadata": {},
   "outputs": [],
   "source": [
    "plt.figure(figsize=(12, 3))\n",
    "sns.lineplot(y_train[-5*TEST_SIZE:], lw=0.8, label='Train')\n",
    "sns.lineplot(estimation[-5*TEST_SIZE:], lw=0.8, label='Estimation')\n",
    "sns.lineplot(y_test, lw=0.8, label='Test')\n",
    "sns.lineplot(forecast, lw=0.8, label='Forecast')\n",
    "sns.lineplot(lower, c='darkviolet', linestyle='--', lw=0.8)\n",
    "sns.lineplot(upper, c='darkviolet', linestyle='--', lw=0.8)\n",
    "sns.lineplot(2*lower-forecast, c='darkviolet', alpha=0.3, linestyle='--', lw=0.8)\n",
    "sns.lineplot(2*upper-forecast, c='darkviolet', alpha=0.3, linestyle='--', lw=0.8)\n",
    "plt.fill_between(x=forecast.index, y1=lower, y2=upper, color='violet', alpha=0.5)\n",
    "plt.fill_between(x=forecast.index, y1=2*lower-forecast, y2=2*upper-forecast, color='violet', alpha=0.3)\n",
    "plt.legend();"
   ]
  },
  {
   "cell_type": "markdown",
   "metadata": {},
   "source": [
    "# Number of Orders"
   ]
  },
  {
   "cell_type": "markdown",
   "metadata": {},
   "source": [
    "## Time Series"
   ]
  },
  {
   "cell_type": "code",
   "execution_count": null,
   "metadata": {},
   "outputs": [],
   "source": [
    "orders = df_client_mod['n_orders']"
   ]
  },
  {
   "cell_type": "code",
   "execution_count": null,
   "metadata": {},
   "outputs": [],
   "source": [
    "orders"
   ]
  },
  {
   "cell_type": "code",
   "execution_count": null,
   "metadata": {},
   "outputs": [],
   "source": [
    "orders.isna().sum()"
   ]
  },
  {
   "cell_type": "code",
   "execution_count": null,
   "metadata": {},
   "outputs": [],
   "source": [
    "orders = orders.fillna(0)"
   ]
  },
  {
   "cell_type": "code",
   "execution_count": null,
   "metadata": {},
   "outputs": [],
   "source": [
    "orders.isna().sum()"
   ]
  },
  {
   "cell_type": "code",
   "execution_count": null,
   "metadata": {},
   "outputs": [],
   "source": [
    "# lags = [orders.shift(l).rename(f'lag_{l}') for l in range(1, 25)]\n",
    "# orders_lag = pd.concat([orders, pd.concat(lags, axis=1)], axis=1).dropna()"
   ]
  },
  {
   "cell_type": "code",
   "execution_count": null,
   "metadata": {},
   "outputs": [],
   "source": [
    "# orders_lag.corr()['n_orders']"
   ]
  },
  {
   "cell_type": "code",
   "execution_count": null,
   "metadata": {},
   "outputs": [],
   "source": [
    "# df = orders_lag[['n_orders', 'lag_1']]\n",
    "df = orders"
   ]
  },
  {
   "cell_type": "code",
   "execution_count": null,
   "metadata": {},
   "outputs": [],
   "source": [
    "df_train = df.iloc[:-TEST_SIZE]\n",
    "df_test = df.iloc[-TEST_SIZE:]"
   ]
  },
  {
   "cell_type": "code",
   "execution_count": null,
   "metadata": {},
   "outputs": [],
   "source": [
    "plt.figure(figsize=(12, 3))\n",
    "# sns.lineplot(df_train['n_orders'], lw=0.8)\n",
    "sns.lineplot(df_train, lw=0.8);"
   ]
  },
  {
   "cell_type": "code",
   "execution_count": null,
   "metadata": {},
   "outputs": [],
   "source": [
    "plt.figure(figsize=(12, 3))\n",
    "sns.lineplot(orders.loc[end_date-timedelta(days=2):end_date], lw=0.8)\n",
    "plt.xticks(rotation=90);"
   ]
  },
  {
   "cell_type": "code",
   "execution_count": null,
   "metadata": {},
   "outputs": [],
   "source": [
    "# res_stl = STL(df_train['n_orders'], period=24).fit()\n",
    "res_stl = STL(df_train, period=24).fit()"
   ]
  },
  {
   "cell_type": "code",
   "execution_count": null,
   "metadata": {},
   "outputs": [],
   "source": [
    "fig, ax = plt.subplots(4, 1, sharex=True, figsize=(12, 12))\n",
    "fig.tight_layout()\n",
    "\n",
    "res_stl.observed.plot(lw=0.8, ax=ax[0])\n",
    "ax[0].set_ylabel(\"Observed\")\n",
    "\n",
    "res_stl.trend.plot(lw=0.8, ax=ax[1])\n",
    "ax[1].set_ylabel(\"Trend\")\n",
    "\n",
    "res_stl.seasonal.plot(lw=0.8, ax=ax[2])\n",
    "ax[2].set_ylabel(\"Seasonal\")\n",
    "\n",
    "res_stl.resid.plot(style=\".\", markersize=1, ax=ax[3])\n",
    "ax[3].set_ylabel(\"Residual\");"
   ]
  },
  {
   "cell_type": "code",
   "execution_count": null,
   "metadata": {},
   "outputs": [],
   "source": [
    "trend = res_stl.trend\n",
    "\n",
    "plt.figure(figsize=(12, 3))\n",
    "sns.lineplot(trend.loc[end_date-timedelta(days=35):end_date], lw=0.8)\n",
    "plt.xticks(rotation=90);"
   ]
  },
  {
   "cell_type": "code",
   "execution_count": null,
   "metadata": {},
   "outputs": [],
   "source": [
    "# res_mstl = MSTL(df_train['n_orders'], periods=(24, 24*7)).fit()\n",
    "res_mstl = MSTL(df_train, periods=(24, 24*7)).fit()"
   ]
  },
  {
   "cell_type": "code",
   "execution_count": null,
   "metadata": {},
   "outputs": [],
   "source": [
    "fig, ax = plt.subplots(5, 1, sharex=True, figsize=(12, 12))\n",
    "fig.tight_layout()\n",
    "\n",
    "res_mstl.observed.plot(lw=0.8, ax=ax[0])\n",
    "ax[0].set_ylabel(\"Observed\")\n",
    "\n",
    "res_mstl.trend.plot(lw=0.8, ax=ax[1])\n",
    "ax[1].set_ylabel(\"Trend\")\n",
    "\n",
    "res_mstl.seasonal['seasonal_24'].plot(lw=0.8, ax=ax[2])\n",
    "ax[2].set_ylabel(\"Seasonal 24h\")\n",
    "\n",
    "res_mstl.seasonal['seasonal_168'].plot(lw=0.8, ax=ax[3])\n",
    "ax[3].set_ylabel(\"Seasonal 7d\")\n",
    "\n",
    "res_mstl.resid.plot(style=\".\", markersize=0.8, lw=0.8, ax=ax[4])\n",
    "ax[4].set_ylabel(\"Residual\");"
   ]
  },
  {
   "cell_type": "code",
   "execution_count": null,
   "metadata": {},
   "outputs": [],
   "source": [
    "model = TBATS(sp=[24, 168], show_warnings=False, n_jobs=-1)\n",
    "# model.fit(df_train['n_orders'], X=df_train['lag_1'])\n",
    "model.fit(df_train)"
   ]
  },
  {
   "cell_type": "code",
   "execution_count": null,
   "metadata": {},
   "outputs": [],
   "source": [
    "# forecast = model.predict(fh=df.index, X=df['lag_1'])\n",
    "# forecast_int = model.predict_interval(fh=df.index, X=df['lag_1'], coverage=0.99)\n",
    "forecast = model.predict(fh=df.index)\n",
    "forecast_int = model.predict_interval(fh=df.index, coverage=0.45)"
   ]
  },
  {
   "cell_type": "code",
   "execution_count": null,
   "metadata": {},
   "outputs": [],
   "source": [
    "# plt.figure(figsize=(12, 3))\n",
    "# sns.lineplot(df_train['n_orders'], lw=0.8, label='Train')\n",
    "# sns.lineplot(forecast[:-TEST_SIZE], lw=0.8, label='Estimation');\n",
    "plt.figure(figsize=(12, 3))\n",
    "sns.lineplot(df_train, lw=0.8, label='Train')\n",
    "sns.lineplot(forecast[:-TEST_SIZE], lw=0.8, label='Estimation');"
   ]
  },
  {
   "cell_type": "code",
   "execution_count": null,
   "metadata": {},
   "outputs": [],
   "source": [
    "plt.figure(figsize=(12, 3))\n",
    "# sns.lineplot(df_train.iloc[-3*TEST_SIZE:, 0], lw=0.8, label='Train')\n",
    "sns.lineplot(df_train.iloc[-6*TEST_SIZE:], lw=0.8, label='Train')\n",
    "sns.lineplot(forecast[-5*TEST_SIZE:-TEST_SIZE], lw=0.8, label='Estimation')\n",
    "# sns.lineplot(df_test['n_orders'], lw=0.8, label='Test')\n",
    "sns.lineplot(df_test, lw=0.8, label='Test')\n",
    "sns.lineplot(forecast[-TEST_SIZE:], lw=0.8, label='Forecast')\n",
    "sns.lineplot(forecast_int.iloc[-TEST_SIZE:, 0], c='darkviolet', linestyle='--', lw=0.8)\n",
    "sns.lineplot(forecast_int.iloc[-TEST_SIZE:, 1], c='darkviolet', linestyle='--', lw=0.8)\n",
    "sns.lineplot(2*forecast_int.iloc[-TEST_SIZE:, 0]-forecast[-TEST_SIZE:], c='darkviolet', alpha=0.3, linestyle='--', lw=0.8)\n",
    "sns.lineplot(2*forecast_int.iloc[-TEST_SIZE:, 1]-forecast[-TEST_SIZE:], c='darkviolet', alpha=0.3, linestyle='--', lw=0.8)\n",
    "plt.fill_between(x=forecast_int.index[-TEST_SIZE:],\n",
    "                 y1=forecast_int.iloc[-TEST_SIZE:, 0],\n",
    "                 y2=forecast_int.iloc[-TEST_SIZE:, 1],\n",
    "                 color='violet',\n",
    "                 alpha=0.5)\n",
    "plt.fill_between(x=forecast_int.index[-TEST_SIZE:],\n",
    "                 y1=2*forecast_int.iloc[-TEST_SIZE:, 0]-forecast[-TEST_SIZE:],\n",
    "                 y2=2*forecast_int.iloc[-TEST_SIZE:, 1]-forecast[-TEST_SIZE:],\n",
    "                 color='violet',\n",
    "                 alpha=0.3)\n",
    "plt.legend();"
   ]
  },
  {
   "cell_type": "code",
   "execution_count": null,
   "metadata": {},
   "outputs": [],
   "source": [
    "train_pred = forecast[:-TEST_SIZE]\n",
    "\n",
    "train_mae = mean_absolute_error(df_train, train_pred)\n",
    "train_rmse = root_mean_squared_error(df_train, train_pred)\n",
    "\n",
    "print(f\"RMSE: {train_rmse:.3f}\")\n",
    "print(f\"MAE:  {train_mae:.3f}\")"
   ]
  },
  {
   "cell_type": "code",
   "execution_count": null,
   "metadata": {},
   "outputs": [],
   "source": [
    "test_pred = forecast[-TEST_SIZE:] \n",
    "\n",
    "mae = mean_absolute_error(df_test, test_pred)\n",
    "rmse = root_mean_squared_error(df_test, test_pred)\n",
    "\n",
    "print(f\"RMSE: {rmse:.3f}\")\n",
    "print(f\"MAE:  {mae:.3f}\")"
   ]
  },
  {
   "cell_type": "markdown",
   "metadata": {},
   "source": [
    "## Machine Learning"
   ]
  },
  {
   "cell_type": "code",
   "execution_count": null,
   "metadata": {},
   "outputs": [],
   "source": [
    "test_split_date = end_date - timedelta(days=1)\n",
    "df_train = orders_lag.loc[orders_lag.index <= test_split_date].copy()\n",
    "df_test = orders_lag.loc[orders_lag.index > test_split_date].copy()\n",
    "\n",
    "X_train, y_train = df_train.drop('n_orders', axis=1), df_train['n_orders']\n",
    "X_test, y_test = df_test.drop('n_orders', axis=1), df_test['n_orders']"
   ]
  },
  {
   "cell_type": "code",
   "execution_count": null,
   "metadata": {},
   "outputs": [],
   "source": [
    "tscv = TimeSeriesSplit()"
   ]
  },
  {
   "cell_type": "code",
   "execution_count": null,
   "metadata": {},
   "outputs": [],
   "source": [
    "lr = LinearRegression()\n",
    "cv_results = cross_validate(lr,\n",
    "                            X=X_train,\n",
    "                            y=y_train,\n",
    "                            scoring=['neg_root_mean_squared_error', 'neg_mean_absolute_error'],\n",
    "                            cv=tscv,\n",
    "                            n_jobs=-1,\n",
    "                            return_train_score=True)\n",
    "cv_results = pd.DataFrame(cv_results)\n",
    "print('train RMSE:', -cv_results['train_neg_root_mean_squared_error'].mean())\n",
    "print('valid RMSE:', -cv_results['test_neg_root_mean_squared_error'].mean())\n",
    "print('train MAE:', -cv_results['train_neg_mean_absolute_error'].mean())\n",
    "print('valid MAE:', -cv_results['test_neg_mean_absolute_error'].mean())"
   ]
  },
  {
   "cell_type": "code",
   "execution_count": null,
   "metadata": {},
   "outputs": [],
   "source": [
    "gb = GradientBoostingRegressor(max_depth=10, random_state=42, n_iter_no_change=3)"
   ]
  },
  {
   "cell_type": "code",
   "execution_count": null,
   "metadata": {},
   "outputs": [],
   "source": [
    "valid_split_date = end_date - timedelta(days=2)\n",
    "\n",
    "df_valid = df_train.loc[(df_train.index > valid_split_date) & (df_train.index <= test_split_date)].copy()\n",
    "X_valid, y_valid = df_valid.drop('n_orders', axis=1), df_valid['n_orders']\n",
    "\n",
    "df_train_mod = df_train.loc[df_train.index <= valid_split_date].copy()\n",
    "X_train_mod, y_train_mod = df_train_mod.drop('n_orders', axis=1), df_train_mod['n_orders']"
   ]
  },
  {
   "cell_type": "code",
   "execution_count": null,
   "metadata": {},
   "outputs": [],
   "source": [
    "gb.fit(X_train_mod, y_train_mod)\n",
    "estimation = pd.Series(gb.predict(X_train_mod), index=X_train_mod.index)\n",
    "forecast = pd.Series(gb.predict(X_valid), index=X_valid.index)\n",
    "\n",
    "print('train RMSE:', root_mean_squared_error(y_train_mod, estimation))\n",
    "print('valid RMSE:', root_mean_squared_error(y_valid, forecast))\n",
    "print('train MAE:', mean_absolute_error(y_train_mod, estimation))\n",
    "print('valid MAE:', mean_absolute_error(y_valid, forecast))"
   ]
  },
  {
   "cell_type": "code",
   "execution_count": null,
   "metadata": {},
   "outputs": [],
   "source": [
    "model = gb"
   ]
  },
  {
   "cell_type": "code",
   "execution_count": null,
   "metadata": {},
   "outputs": [],
   "source": [
    "LOWER_ALPHA = 0.025\n",
    "UPPER_ALPHA = 0.975\n",
    "\n",
    "lower_gb = GradientBoostingRegressor(loss=\"quantile\", max_depth=10, random_state=42, n_iter_no_change=3, alpha=LOWER_ALPHA)\n",
    "lower_gb.fit(X_train, y_train)\n",
    "\n",
    "upper_gb = GradientBoostingRegressor(loss=\"quantile\", max_depth=10, random_state=42, n_iter_no_change=3, alpha=UPPER_ALPHA)\n",
    "upper_gb.fit(X_train, y_train)\n",
    "\n",
    "model.fit(X_train, y_train);"
   ]
  },
  {
   "cell_type": "code",
   "execution_count": null,
   "metadata": {},
   "outputs": [],
   "source": [
    "estimation = pd.Series(model.predict(X_train), index=X_train.index)\n",
    "\n",
    "lower = pd.Series(lower_gb.predict(X_test), index=X_test.index)\n",
    "upper = pd.Series(upper_gb.predict(X_test), index=X_test.index)\n",
    "\n",
    "y_pred_test = model.predict(X_test)\n",
    "forecast = pd.Series(y_pred_test, index=X_test.index)"
   ]
  },
  {
   "cell_type": "code",
   "execution_count": null,
   "metadata": {},
   "outputs": [],
   "source": [
    "print('test RMSE:', root_mean_squared_error(y_test, y_pred_test))\n",
    "print('test MAE:', mean_absolute_error(y_test, y_pred_test))"
   ]
  },
  {
   "cell_type": "code",
   "execution_count": null,
   "metadata": {},
   "outputs": [],
   "source": [
    "plt.figure(figsize=(12, 3))\n",
    "sns.lineplot(y_train, lw=0.8, label='Train')\n",
    "sns.lineplot(estimation, lw=0.8, label='Estimation');"
   ]
  },
  {
   "cell_type": "code",
   "execution_count": null,
   "metadata": {},
   "outputs": [],
   "source": [
    "plt.figure(figsize=(12, 3))\n",
    "sns.lineplot(y_train[-3*TEST_SIZE:], lw=0.8, label='Train')\n",
    "sns.lineplot(estimation[-3*TEST_SIZE:], lw=0.8, label='Estimation')\n",
    "sns.lineplot(y_test, lw=0.8, label='Test')\n",
    "sns.lineplot(forecast, lw=0.8, label='Forecast')\n",
    "sns.lineplot(lower, c='darkviolet', linestyle='--', lw=0.8)\n",
    "sns.lineplot(upper, c='darkviolet', linestyle='--', lw=0.8)\n",
    "sns.lineplot(2*lower-forecast, c='darkviolet', alpha=0.3, linestyle='--', lw=0.8)\n",
    "sns.lineplot(2*upper-forecast, c='darkviolet', alpha=0.3, linestyle='--', lw=0.8)\n",
    "plt.fill_between(x=forecast.index, y1=lower, y2=upper, color='violet', alpha=0.5)\n",
    "plt.fill_between(x=forecast.index, y1=2*lower-forecast, y2=2*upper-forecast, color='violet', alpha=0.3)\n",
    "plt.legend();"
   ]
  },
  {
   "cell_type": "markdown",
   "metadata": {},
   "source": []
  }
 ],
 "metadata": {
  "kernelspec": {
   "display_name": "sales_forecasting",
   "language": "python",
   "name": "python3"
  },
  "language_info": {
   "codemirror_mode": {
    "name": "ipython",
    "version": 3
   },
   "file_extension": ".py",
   "mimetype": "text/x-python",
   "name": "python",
   "nbconvert_exporter": "python",
   "pygments_lexer": "ipython3",
   "version": "3.12.9"
  }
 },
 "nbformat": 4,
 "nbformat_minor": 2
}
